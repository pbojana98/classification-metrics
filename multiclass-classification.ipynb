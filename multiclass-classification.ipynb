{
 "cells": [
  {
   "cell_type": "code",
   "execution_count": 1,
   "metadata": {},
   "outputs": [
    {
     "data": {
      "text/html": [
       "<div>\n",
       "<style scoped>\n",
       "    .dataframe tbody tr th:only-of-type {\n",
       "        vertical-align: middle;\n",
       "    }\n",
       "\n",
       "    .dataframe tbody tr th {\n",
       "        vertical-align: top;\n",
       "    }\n",
       "\n",
       "    .dataframe thead th {\n",
       "        text-align: right;\n",
       "    }\n",
       "</style>\n",
       "<table border=\"1\" class=\"dataframe\">\n",
       "  <thead>\n",
       "    <tr style=\"text-align: right;\">\n",
       "      <th></th>\n",
       "      <th>actual_label</th>\n",
       "      <th>model_RF</th>\n",
       "      <th>model_LR</th>\n",
       "    </tr>\n",
       "  </thead>\n",
       "  <tbody>\n",
       "    <tr>\n",
       "      <th>0</th>\n",
       "      <td>1</td>\n",
       "      <td>0.639816</td>\n",
       "      <td>0.531904</td>\n",
       "    </tr>\n",
       "    <tr>\n",
       "      <th>1</th>\n",
       "      <td>0</td>\n",
       "      <td>0.490993</td>\n",
       "      <td>0.414496</td>\n",
       "    </tr>\n",
       "    <tr>\n",
       "      <th>2</th>\n",
       "      <td>1</td>\n",
       "      <td>0.623815</td>\n",
       "      <td>0.569883</td>\n",
       "    </tr>\n",
       "    <tr>\n",
       "      <th>3</th>\n",
       "      <td>1</td>\n",
       "      <td>0.506616</td>\n",
       "      <td>0.443674</td>\n",
       "    </tr>\n",
       "    <tr>\n",
       "      <th>4</th>\n",
       "      <td>0</td>\n",
       "      <td>0.418302</td>\n",
       "      <td>0.369532</td>\n",
       "    </tr>\n",
       "  </tbody>\n",
       "</table>\n",
       "</div>"
      ],
      "text/plain": [
       "   actual_label  model_RF  model_LR\n",
       "0             1  0.639816  0.531904\n",
       "1             0  0.490993  0.414496\n",
       "2             1  0.623815  0.569883\n",
       "3             1  0.506616  0.443674\n",
       "4             0  0.418302  0.369532"
      ]
     },
     "execution_count": 1,
     "metadata": {},
     "output_type": "execute_result"
    }
   ],
   "source": [
    "import pandas as pd \n",
    "import numpy as np\n",
    "df= pd.read_csv('data.csv')\n",
    "df.head()"
   ]
  },
  {
   "cell_type": "code",
   "execution_count": 2,
   "metadata": {},
   "outputs": [
    {
     "data": {
      "text/html": [
       "<div>\n",
       "<style scoped>\n",
       "    .dataframe tbody tr th:only-of-type {\n",
       "        vertical-align: middle;\n",
       "    }\n",
       "\n",
       "    .dataframe tbody tr th {\n",
       "        vertical-align: top;\n",
       "    }\n",
       "\n",
       "    .dataframe thead th {\n",
       "        text-align: right;\n",
       "    }\n",
       "</style>\n",
       "<table border=\"1\" class=\"dataframe\">\n",
       "  <thead>\n",
       "    <tr style=\"text-align: right;\">\n",
       "      <th></th>\n",
       "      <th>actual_label</th>\n",
       "      <th>model_RF</th>\n",
       "      <th>model_LR</th>\n",
       "      <th>predicted_RF</th>\n",
       "      <th>predicted_LR</th>\n",
       "    </tr>\n",
       "  </thead>\n",
       "  <tbody>\n",
       "    <tr>\n",
       "      <th>0</th>\n",
       "      <td>1</td>\n",
       "      <td>0.639816</td>\n",
       "      <td>0.531904</td>\n",
       "      <td>1</td>\n",
       "      <td>1</td>\n",
       "    </tr>\n",
       "    <tr>\n",
       "      <th>1</th>\n",
       "      <td>0</td>\n",
       "      <td>0.490993</td>\n",
       "      <td>0.414496</td>\n",
       "      <td>0</td>\n",
       "      <td>1</td>\n",
       "    </tr>\n",
       "    <tr>\n",
       "      <th>2</th>\n",
       "      <td>1</td>\n",
       "      <td>0.623815</td>\n",
       "      <td>0.569883</td>\n",
       "      <td>1</td>\n",
       "      <td>1</td>\n",
       "    </tr>\n",
       "    <tr>\n",
       "      <th>3</th>\n",
       "      <td>1</td>\n",
       "      <td>0.506616</td>\n",
       "      <td>0.443674</td>\n",
       "      <td>1</td>\n",
       "      <td>1</td>\n",
       "    </tr>\n",
       "    <tr>\n",
       "      <th>4</th>\n",
       "      <td>0</td>\n",
       "      <td>0.418302</td>\n",
       "      <td>0.369532</td>\n",
       "      <td>0</td>\n",
       "      <td>1</td>\n",
       "    </tr>\n",
       "  </tbody>\n",
       "</table>\n",
       "</div>"
      ],
      "text/plain": [
       "   actual_label  model_RF  model_LR  predicted_RF  predicted_LR\n",
       "0             1  0.639816  0.531904             1             1\n",
       "1             0  0.490993  0.414496             0             1\n",
       "2             1  0.623815  0.569883             1             1\n",
       "3             1  0.506616  0.443674             1             1\n",
       "4             0  0.418302  0.369532             0             1"
      ]
     },
     "execution_count": 2,
     "metadata": {},
     "output_type": "execute_result"
    }
   ],
   "source": [
    "thresh = 0.5\n",
    "df['predicted_RF'] = (df.model_RF >= 0.5).astype('int')\n",
    "df['predicted_LR'] = (df.model_LR >= 0).astype('int')\n",
    "df.head()"
   ]
  },
  {
   "cell_type": "code",
   "execution_count": 3,
   "metadata": {},
   "outputs": [
    {
     "data": {
      "text/plain": [
       "array([[5519, 2360],\n",
       "       [2832, 5047]])"
      ]
     },
     "execution_count": 3,
     "metadata": {},
     "output_type": "execute_result"
    }
   ],
   "source": [
    "def confusion_matrix(y_true, y_predicted):\n",
    "    u = np.unique(y_true).tolist()\n",
    "    trues = []\n",
    "    predicteds = []\n",
    "    for i in range(len(y_true)):\n",
    "        trues.append(u.index(y_true[i]))\n",
    "        predicteds.append(u.index(y_predicted[i]))\n",
    "    Matrix = [[0 for x in range(len(u))] for y in range(len(u))] \n",
    "    for i in range(len(y_true)):\n",
    "        Matrix[trues[i]][predicteds[i]] += 1\n",
    "    return np.array(Matrix)\n",
    "confusion_matrix(df['actual_label'], df['predicted_RF'])\n"
   ]
  },
  {
   "cell_type": "code",
   "execution_count": 4,
   "metadata": {},
   "outputs": [
    {
     "data": {
      "text/plain": [
       "0.6705165630156111"
      ]
     },
     "execution_count": 4,
     "metadata": {},
     "output_type": "execute_result"
    }
   ],
   "source": [
    "import numpy as np\n",
    "\n",
    "def accuracy_score(y_true, y_predicted):\n",
    "    matrix = confusion_matrix(y_true, y_predicted)\n",
    "    diag = np.trace(matrix)\n",
    "    array = np.array(matrix)\n",
    "    sum_all = np.sum(array)\n",
    "    return diag/sum_all\n",
    "\n",
    "accuracy_score(df.actual_label, df.predicted_RF)\n",
    "\n"
   ]
  },
  {
   "cell_type": "code",
   "execution_count": 5,
   "metadata": {},
   "outputs": [
    {
     "data": {
      "text/plain": [
       "[0.6608789366542929, 0.681382476036182]"
      ]
     },
     "execution_count": 5,
     "metadata": {},
     "output_type": "execute_result"
    }
   ],
   "source": [
    "def precision_score(y_true, y_predicted):\n",
    "    matrix = confusion_matrix(y_true, y_predicted)\n",
    "    res = []\n",
    "    col_num = len(matrix[0])\n",
    "    for i in range(col_num):\n",
    "        res.append(matrix[i][i] / np.sum(matrix[:,i]))\n",
    "    return res\n",
    "\n",
    "precision_score(df.actual_label, df.predicted_RF)\n"
   ]
  },
  {
   "cell_type": "code",
   "execution_count": 6,
   "metadata": {},
   "outputs": [
    {
     "data": {
      "text/plain": [
       "[0.7004696027414646, 0.6405635232897576]"
      ]
     },
     "execution_count": 6,
     "metadata": {},
     "output_type": "execute_result"
    }
   ],
   "source": [
    "def recall_score(y_true, y_predicted):\n",
    "    matrix = confusion_matrix(y_true, y_predicted)\n",
    "    res = []\n",
    "    row_num = len(matrix)\n",
    "    for i in range(row_num):\n",
    "        res.append(matrix[i][i] / np.sum(matrix[i]))\n",
    "    return res\n",
    "    \n",
    "recall_score(df.actual_label, df.predicted_RF)"
   ]
  },
  {
   "cell_type": "code",
   "execution_count": 7,
   "metadata": {},
   "outputs": [
    {
     "data": {
      "text/plain": [
       "[0.6800985828712262, 0.660342797330891]"
      ]
     },
     "execution_count": 7,
     "metadata": {},
     "output_type": "execute_result"
    }
   ],
   "source": [
    "def f1_score(y_true, y_predicted):\n",
    "    precision = precision_score(y_true, y_predicted)\n",
    "    recall= recall_score(y_true, y_predicted)\n",
    "    return list(np.divide(2 * np.multiply(precision, recall),(np.add(precision, recall))))\n",
    "    \n",
    "f1_score(df.actual_label, df.predicted_RF)"
   ]
  },
  {
   "cell_type": "code",
   "execution_count": 8,
   "metadata": {},
   "outputs": [
    {
     "data": {
      "text/plain": [
       "[0.6405635232897576, 0.7004696027414646]"
      ]
     },
     "execution_count": 8,
     "metadata": {},
     "output_type": "execute_result"
    }
   ],
   "source": [
    "import numpy as np\n",
    "\n",
    "def specificity_score(y_true, y_predicted):\n",
    "    matrix = confusion_matrix(y_true, y_predicted)\n",
    "    row_num = len(matrix)\n",
    "    res = []\n",
    "    for i in range(row_num):\n",
    "        a = np.delete(matrix, i, 0)\n",
    "        b = np.delete(a, i, 1)\n",
    "        tn = np.sum(b)\n",
    "        fp = np.sum(matrix[:,i]) - matrix[i][i]\n",
    "        res.append(tn/(tn+fp))\n",
    "    return res\n",
    "\n",
    "specificity_score(df.actual_label, df.predicted_RF)"
   ]
  },
  {
   "cell_type": "code",
   "execution_count": 10,
   "metadata": {},
   "outputs": [
    {
     "data": {
      "text/plain": [
       "array([0.67051656, 0.67051656])"
      ]
     },
     "execution_count": 10,
     "metadata": {},
     "output_type": "execute_result"
    }
   ],
   "source": [
    "def roc_auc_score(y_true, y_predicted):\n",
    "    recall = recall_score(y_true, y_predicted)\n",
    "    specificity = specificity_score(y_true, y_predicted)\n",
    "    sum = np.add(specificity, recall)\n",
    "    return np.divide(sum, 2)\n",
    "    \n",
    "roc_auc_score(df['actual_label'], df['predicted_RF'])\n"
   ]
  },
  {
   "cell_type": "code",
   "execution_count": 11,
   "metadata": {},
   "outputs": [
    {
     "data": {
      "text/plain": [
       "{'0': [(0.0, 0.0),\n",
       "  (0.0, 0.0),\n",
       "  (0.0, 0.0005076786394212463),\n",
       "  (0.0012691965985530684, 0.021957101154968905),\n",
       "  (0.05939840081228587, 0.24495494352075137),\n",
       "  (0.35943647671024237, 0.7004696027414646),\n",
       "  (0.7158268815839574, 0.9413631171468461),\n",
       "  (0.9366670897321995, 0.9961924102043407),\n",
       "  (0.9906079451707069, 1.0),\n",
       "  (0.9993654017007234, 1.0),\n",
       "  (1.0, 1.0)],\n",
       " '1': [(1.0, 1.0),\n",
       "  (1.0, 1.0),\n",
       "  (0.9994923213605788, 1.0),\n",
       "  (0.9780428988450312, 0.9987308034014469),\n",
       "  (0.7550450564792486, 0.9406015991877141),\n",
       "  (0.29953039725853536, 0.6405635232897576),\n",
       "  (0.05863688285315394, 0.28417311841604265),\n",
       "  (0.0038075897956593163, 0.06333291026780048),\n",
       "  (0.0, 0.009392054829293058),\n",
       "  (0.0, 0.000634598299276558),\n",
       "  (0.0, 0.0)]}"
      ]
     },
     "execution_count": 11,
     "metadata": {},
     "output_type": "execute_result"
    }
   ],
   "source": [
    "def roc_curve(y_true, y_predicted):\n",
    "    thresh = 0.0\n",
    "    points = []\n",
    "    my_dict = {}\n",
    "    for i in range(len(np.unique(y_true))):\n",
    "        my_dict[str(i)] = []\n",
    "    while thresh < 1:\n",
    "        predicted = (y_predicted >= thresh).astype('int')\n",
    "        fpr = np.subtract(1, specificity_score(y_true, predicted))\n",
    "        tpr = recall_score(y_true, predicted)\n",
    "        for i in range(len(np.unique(y_true))):\n",
    "            my_dict[str(i)].append((fpr[i], tpr[i]))\n",
    "        thresh += 0.1\n",
    "    return my_dict\n",
    "\n",
    "roc_curve(df.actual_label, df.model_RF)"
   ]
  },
  {
   "cell_type": "code",
   "execution_count": 12,
   "metadata": {},
   "outputs": [
    {
     "data": {
      "image/png": "[encoded data removed]",
      "text/plain": [
       "<Figure size 432x288 with 1 Axes>"
      ]
     },
     "metadata": {
      "needs_background": "light"
     },
     "output_type": "display_data"
    }
   ],
   "source": [
    "%matplotlib inline\n",
    "import seaborn as sns\n",
    "import matplotlib.pyplot as plt\n",
    "\n",
    "plt.figure()\n",
    "lw = 2\n",
    "my_dict = roc_curve(df.actual_label, df.model_RF)\n",
    "for key in my_dict:\n",
    "    fpr = [x[0] for x in my_dict[key]]\n",
    "    tpr = [x[1] for x in my_dict[key]]\n",
    "    plt.plot(fpr, tpr, color='darkorange', label='ROC curve (%s)' % str(key))\n",
    "plt.plot([0, 1], [0, 1], color='navy', lw=lw, linestyle='--')\n",
    "plt.xlim([0.0, 1.0])\n",
    "plt.ylim([0.0, 1.05])\n",
    "plt.xlabel('False Positive Rate')\n",
    "plt.ylabel('True Positive Rate')\n",
    "plt.title('ROC example')\n",
    "plt.legend(loc=\"lower right\")\n",
    "plt.show()"
   ]
  }
 ],
 "metadata": {
  "interpreter": {
   "hash": "4ea6174109c7db0d0f23544782bd685f867a961ccec7b1d0b1aca314793d1f6d"
  },
  "kernelspec": {
   "display_name": "Python 3.8.8 64-bit ('base': conda)",
   "name": "python3"
  },
  "language_info": {
   "codemirror_mode": {
    "name": "ipython",
    "version": 3
   },
   "file_extension": ".py",
   "mimetype": "text/x-python",
   "name": "python",
   "nbconvert_exporter": "python",
   "pygments_lexer": "ipython3",
   "version": "3.8.8"
  },
  "orig_nbformat": 4
 },
 "nbformat": 4,
 "nbformat_minor": 2
}
